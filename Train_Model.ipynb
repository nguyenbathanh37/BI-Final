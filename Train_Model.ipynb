{
  "cells": [
    {
      "cell_type": "code",
      "execution_count": 27,
      "id": "41a58e7f",
      "metadata": {
        "id": "41a58e7f"
      },
      "outputs": [],
      "source": [
        "import numpy as np\n",
        "import pandas as pd\n",
        "from sklearn.linear_model import LogisticRegression\n",
        "from joblib import dump\n",
        "\n",
        "from sklearn.metrics import classification_report\n",
        "from sklearn.metrics import confusion_matrix\n",
        "from sklearn.metrics import accuracy_score\n",
        "from sklearn.preprocessing import StandardScaler\n",
        "import joblib"
      ]
    },
    {
      "cell_type": "code",
      "execution_count": 28,
      "id": "6a8eeb97",
      "metadata": {
        "id": "6a8eeb97"
      },
      "outputs": [],
      "source": [
        "df = pd.read_csv(\"/content/drive/MyDrive/train_dataset2.csv\")\n"
      ]
    },
    {
      "cell_type": "code",
      "execution_count": 29,
      "id": "52946654",
      "metadata": {
        "id": "52946654"
      },
      "outputs": [],
      "source": [
        "df[\"CODE_GENDER\"] =  df[\"CODE_GENDER\"].replace(['F','M'],[0,1])\n",
        "df[\"FLAG_OWN_CAR\"] = df[\"FLAG_OWN_CAR\"].replace([\"Y\",\"N\"],[1,0])\n",
        "df[\"FLAG_OWN_REALTY\"] = df[\"FLAG_OWN_REALTY\"].replace([\"Y\",\"N\"],[1,0])\n",
        "\n",
        "df[\"STATUS\"] =  df[\"STATUS\"].replace(['X','C', '0', '1', '2', '3', '4', '5'],[0,1,2,3,4,5,6,7])"
      ]
    },
    {
      "cell_type": "code",
      "execution_count": 30,
      "id": "8419413c",
      "metadata": {
        "id": "8419413c"
      },
      "outputs": [],
      "source": [
        "df.drop('ID', axis=1, inplace=True)"
      ]
    },
    {
      "cell_type": "code",
      "execution_count": 31,
      "id": "1a258c37",
      "metadata": {
        "scrolled": true,
        "id": "1a258c37",
        "outputId": "1366dae6-16b6-40ae-91a5-0b2d3339238b",
        "colab": {
          "base_uri": "https://localhost:8080/"
        }
      },
      "outputs": [
        {
          "output_type": "stream",
          "name": "stdout",
          "text": [
            "Index(['CODE_GENDER', 'FLAG_OWN_CAR', 'FLAG_OWN_REALTY', 'CNT_CHILDREN',\n",
            "       'AMT_INCOME_TOTAL', 'NAME_INCOME_TYPE', 'NAME_EDUCATION_TYPE',\n",
            "       'NAME_FAMILY_STATUS', 'NAME_HOUSING_TYPE', 'FLAG_WORK_PHONE',\n",
            "       'FLAG_PHONE', 'FLAG_EMAIL', 'OCCUPATION_TYPE', 'CNT_FAM_MEMBERS',\n",
            "       'BEGIN_MONTH', 'AGES', 'WORKING_YEAR', 'STATUS'],\n",
            "      dtype='object')\n"
          ]
        }
      ],
      "source": [
        "names = df.keys()\n",
        "print(names)"
      ]
    },
    {
      "cell_type": "code",
      "execution_count": 32,
      "id": "7c913e4d",
      "metadata": {
        "id": "7c913e4d",
        "outputId": "e4e8755e-e850-49a5-ce83-3aba068d44fd",
        "colab": {
          "base_uri": "https://localhost:8080/"
        }
      },
      "outputs": [
        {
          "output_type": "stream",
          "name": "stdout",
          "text": [
            "CODE_GENDER              int64\n",
            "FLAG_OWN_CAR             int64\n",
            "FLAG_OWN_REALTY          int64\n",
            "CNT_CHILDREN            object\n",
            "AMT_INCOME_TOTAL       float64\n",
            "NAME_INCOME_TYPE        object\n",
            "NAME_EDUCATION_TYPE     object\n",
            "NAME_FAMILY_STATUS      object\n",
            "NAME_HOUSING_TYPE       object\n",
            "FLAG_WORK_PHONE          int64\n",
            "FLAG_PHONE               int64\n",
            "FLAG_EMAIL               int64\n",
            "OCCUPATION_TYPE         object\n",
            "CNT_FAM_MEMBERS         object\n",
            "BEGIN_MONTH            float64\n",
            "AGES                     int64\n",
            "WORKING_YEAR             int64\n",
            "STATUS                   int64\n",
            "dtype: object\n"
          ]
        }
      ],
      "source": [
        "types = df.dtypes\n",
        "print(types)"
      ]
    },
    {
      "cell_type": "code",
      "execution_count": 33,
      "id": "4df5103e",
      "metadata": {
        "id": "4df5103e"
      },
      "outputs": [],
      "source": [
        "from sklearn.preprocessing import LabelEncoder\n",
        "\n",
        "le = LabelEncoder()\n",
        "\n",
        "for i in range(len(types)):\n",
        "    if types[i] == 'object':\n",
        "        # Chuyển đổi cột thành chuỗi nếu nó không phải kiểu chuỗi\n",
        "        df[names[i]] = df[names[i]].astype(str)\n",
        "\n",
        "        le.fit(df[names[i]])\n",
        "        df[names[i]] = le.transform(df[names[i]])"
      ]
    },
    {
      "cell_type": "code",
      "execution_count": 34,
      "id": "6ef200d9",
      "metadata": {
        "id": "6ef200d9",
        "outputId": "e12f8621-2f1f-4684-c646-be3a8f4ba27f",
        "colab": {
          "base_uri": "https://localhost:8080/"
        }
      },
      "outputs": [
        {
          "output_type": "execute_result",
          "data": {
            "text/plain": [
              "array([[ 0.,  1.,  0., ..., 48.,  4.,  0.],\n",
              "       [ 0.,  0.,  1., ..., 33., 10.,  0.],\n",
              "       [ 0.,  0.,  1., ..., 63.,  0.,  2.],\n",
              "       ...,\n",
              "       [ 0.,  0.,  1., ..., 33.,  0.,  2.],\n",
              "       [ 0.,  0.,  1., ..., 67.,  0.,  2.],\n",
              "       [ 0.,  1.,  1., ..., 41., 14.,  0.]])"
            ]
          },
          "metadata": {},
          "execution_count": 34
        }
      ],
      "source": [
        "data = np.array(df.values)\n",
        "data"
      ]
    },
    {
      "cell_type": "code",
      "execution_count": 35,
      "id": "98cb635e",
      "metadata": {
        "id": "98cb635e"
      },
      "outputs": [],
      "source": [
        "X = data[:,:-1]\n",
        "y = data[:,-1]"
      ]
    },
    {
      "cell_type": "code",
      "execution_count": 36,
      "id": "e26e5fbc",
      "metadata": {
        "id": "e26e5fbc",
        "outputId": "bd62e35a-36f2-4589-8c8c-32af3864f023",
        "colab": {
          "base_uri": "https://localhost:8080/"
        }
      },
      "outputs": [
        {
          "output_type": "stream",
          "name": "stdout",
          "text": [
            "Train:\n",
            "(23332, 17)\n",
            "(23332,)\n",
            "Test:\n",
            "(5834, 17)\n",
            "(5834,)\n"
          ]
        }
      ],
      "source": [
        "from sklearn.model_selection import train_test_split\n",
        "\n",
        "X_train, X_test, y_train, y_test = train_test_split(X, y, test_size=0.2, random_state=42)\n",
        "\n",
        "print('Train:')\n",
        "print(X_train.shape)\n",
        "print(y_train.shape)\n",
        "print('Test:')\n",
        "print(X_test.shape)\n",
        "print(y_test.shape)"
      ]
    },
    {
      "cell_type": "code",
      "source": [
        "scaler = StandardScaler()\n",
        "X_train_scaled = scaler.fit_transform(X_train)\n",
        "X_test_scaled = scaler.transform(X_test)"
      ],
      "metadata": {
        "id": "xRj7HxZ4RD3M"
      },
      "id": "xRj7HxZ4RD3M",
      "execution_count": 37,
      "outputs": []
    },
    {
      "cell_type": "code",
      "execution_count": 38,
      "id": "aa77460f",
      "metadata": {
        "id": "aa77460f",
        "outputId": "d239e90c-9171-4fab-d1a2-031dad55d2dd",
        "colab": {
          "base_uri": "https://localhost:8080/"
        }
      },
      "outputs": [
        {
          "output_type": "stream",
          "name": "stdout",
          "text": [
            "DT\n",
            "Accuracy Score is 0.48457\n",
            "              precision    recall  f1-score   support\n",
            "\n",
            "         0.0       0.34      0.37      0.36      1508\n",
            "         1.0       0.63      0.59      0.61      2965\n",
            "         2.0       0.38      0.38      0.38      1282\n",
            "         3.0       0.12      0.12      0.12        58\n",
            "         4.0       0.33      0.50      0.40         2\n",
            "         5.0       0.00      0.00      0.00         2\n",
            "         6.0       0.00      0.00      0.00         1\n",
            "         7.0       0.20      0.12      0.15        16\n",
            "\n",
            "    accuracy                           0.48      5834\n",
            "   macro avg       0.25      0.26      0.25      5834\n",
            "weighted avg       0.49      0.48      0.49      5834\n",
            "\n",
            "[[ 565  596  331   12    0    0    0    4]\n",
            " [ 738 1763  444   14    0    2    0    4]\n",
            " [ 339  428  489   23    2    0    1    0]\n",
            " [  12   19   20    7    0    0    0    0]\n",
            " [   0    0    1    0    1    0    0    0]\n",
            " [   1    1    0    0    0    0    0    0]\n",
            " [   0    0    1    0    0    0    0    0]\n",
            " [   7    4    3    0    0    0    0    2]]\n"
          ]
        }
      ],
      "source": [
        "from sklearn import tree\n",
        "clf = tree.DecisionTreeClassifier()\n",
        "clf = clf.fit(X_train_scaled,y_train)\n",
        "\n",
        "\n",
        "clf_pred = clf.predict(X_test_scaled)\n",
        "\n",
        "print('DT')\n",
        "print('Accuracy Score is {:.5}'.format(accuracy_score(y_test, clf_pred)))\n",
        "print(classification_report(y_test, clf_pred))\n",
        "print(confusion_matrix(y_test, clf_pred))"
      ]
    },
    {
      "cell_type": "code",
      "source": [
        "joblib.dump({'model': clf, 'label_encoder': le, 'StandardScaler':scaler}, 'dt.joblib')"
      ],
      "metadata": {
        "colab": {
          "base_uri": "https://localhost:8080/"
        },
        "id": "WHwz_-mpTMDp",
        "outputId": "1e758405-4a6b-413e-9cb5-1ed04e57f4ee"
      },
      "id": "WHwz_-mpTMDp",
      "execution_count": 39,
      "outputs": [
        {
          "output_type": "execute_result",
          "data": {
            "text/plain": [
              "['dt.joblib']"
            ]
          },
          "metadata": {},
          "execution_count": 39
        }
      ]
    },
    {
      "cell_type": "code",
      "execution_count": 40,
      "id": "cd82b9ef",
      "metadata": {
        "id": "cd82b9ef",
        "outputId": "a0691cfd-aea7-4945-e787-0d9e7610545e",
        "colab": {
          "base_uri": "https://localhost:8080/"
        }
      },
      "outputs": [
        {
          "output_type": "stream",
          "name": "stdout",
          "text": [
            "Accuracy Score is 0.56668\n",
            "              precision    recall  f1-score   support\n",
            "\n",
            "         0.0       0.22      0.00      0.00      1508\n",
            "         1.0       0.60      0.87      0.71      2965\n",
            "         2.0       0.47      0.57      0.51      1282\n",
            "         3.0       0.00      0.00      0.00        58\n",
            "         4.0       0.00      0.00      0.00         2\n",
            "         5.0       0.00      0.00      0.00         2\n",
            "         6.0       0.00      0.00      0.00         1\n",
            "         7.0       0.00      0.00      0.00        16\n",
            "\n",
            "    accuracy                           0.57      5834\n",
            "   macro avg       0.16      0.18      0.15      5834\n",
            "weighted avg       0.47      0.57      0.48      5834\n",
            "\n",
            "[[   2 1099  407    0    0    0    0    0]\n",
            " [   6 2571  388    0    0    0    0    0]\n",
            " [   1  548  733    0    0    0    0    0]\n",
            " [   0   21   37    0    0    0    0    0]\n",
            " [   0    0    2    0    0    0    0    0]\n",
            " [   0    1    1    0    0    0    0    0]\n",
            " [   0    0    1    0    0    0    0    0]\n",
            " [   0   13    3    0    0    0    0    0]]\n"
          ]
        },
        {
          "output_type": "stream",
          "name": "stderr",
          "text": [
            "/usr/local/lib/python3.10/dist-packages/sklearn/linear_model/_logistic.py:460: ConvergenceWarning: lbfgs failed to converge (status=1):\n",
            "STOP: TOTAL NO. of ITERATIONS REACHED LIMIT.\n",
            "\n",
            "Increase the number of iterations (max_iter) or scale the data as shown in:\n",
            "    https://scikit-learn.org/stable/modules/preprocessing.html\n",
            "Please also refer to the documentation for alternative solver options:\n",
            "    https://scikit-learn.org/stable/modules/linear_model.html#logistic-regression\n",
            "  n_iter_i = _check_optimize_result(\n",
            "/usr/local/lib/python3.10/dist-packages/sklearn/metrics/_classification.py:1471: UndefinedMetricWarning: Precision and F-score are ill-defined and being set to 0.0 in labels with no predicted samples. Use `zero_division` parameter to control this behavior.\n",
            "  _warn_prf(average, modifier, msg_start, len(result))\n",
            "/usr/local/lib/python3.10/dist-packages/sklearn/metrics/_classification.py:1471: UndefinedMetricWarning: Precision and F-score are ill-defined and being set to 0.0 in labels with no predicted samples. Use `zero_division` parameter to control this behavior.\n",
            "  _warn_prf(average, modifier, msg_start, len(result))\n",
            "/usr/local/lib/python3.10/dist-packages/sklearn/metrics/_classification.py:1471: UndefinedMetricWarning: Precision and F-score are ill-defined and being set to 0.0 in labels with no predicted samples. Use `zero_division` parameter to control this behavior.\n",
            "  _warn_prf(average, modifier, msg_start, len(result))\n"
          ]
        }
      ],
      "source": [
        "# Initialize the Logistic Regression model\n",
        "logistic_model = LogisticRegression()\n",
        "\n",
        "# Train the model\n",
        "logistic_model.fit(X_train_scaled, y_train)\n",
        "\n",
        "\n",
        "\n",
        "logistic_pred = logistic_model.predict(X_test_scaled)\n",
        "\n",
        "# Evaluate the model\n",
        "print('Accuracy Score is {:.5}'.format(accuracy_score(y_test, logistic_pred)))\n",
        "print(classification_report(y_test, logistic_pred))\n",
        "print(confusion_matrix(y_test, logistic_pred))"
      ]
    },
    {
      "cell_type": "code",
      "source": [
        "joblib.dump({'model': logistic_model, 'label_encoder': le, 'StandardScaler':scaler}, 'logistic.joblib')"
      ],
      "metadata": {
        "colab": {
          "base_uri": "https://localhost:8080/"
        },
        "id": "4A8CV_BwSyXY",
        "outputId": "0c0924b2-f0bc-4720-cc7b-34cde7318511"
      },
      "id": "4A8CV_BwSyXY",
      "execution_count": 41,
      "outputs": [
        {
          "output_type": "execute_result",
          "data": {
            "text/plain": [
              "['logistic.joblib']"
            ]
          },
          "metadata": {},
          "execution_count": 41
        }
      ]
    },
    {
      "cell_type": "code",
      "source": [
        "\n",
        "import pandas as pd\n",
        "from sklearn.model_selection import train_test_split\n",
        "from sklearn.preprocessing import StandardScaler, LabelEncoder\n",
        "from sklearn.neighbors import KNeighborsClassifier\n",
        "from sklearn.metrics import accuracy_score\n",
        "import numpy as np\n",
        "from sklearn.model_selection import GridSearchCV\n",
        "from sklearn.neighbors import KNeighborsClassifier\n",
        "from sklearn.preprocessing import StandardScaler\n",
        "from sklearn.pipeline import make_pipeline"
      ],
      "metadata": {
        "id": "u1dw-CxjdcZG"
      },
      "execution_count": 42,
      "outputs": [],
      "id": "u1dw-CxjdcZG"
    },
    {
      "cell_type": "code",
      "source": [
        "model = make_pipeline(StandardScaler(), KNeighborsClassifier())\n",
        "\n",
        "\n",
        "param_grid = {'kneighborsclassifier__n_neighbors': np.arange(1, 31)}\n",
        "\n",
        "\n",
        "grid_search = GridSearchCV(model, param_grid, cv=5, scoring='accuracy')\n",
        "\n",
        "\n",
        "grid_search.fit(X_train, y_train)\n",
        "\n",
        "\n",
        "print(\"Best Parameters:\", grid_search.best_params_)\n",
        "print(\"Best Cross-Validated Accuracy:\", grid_search.best_score_)\n",
        "\n",
        "\n",
        "test_accuracy = grid_search.score(X_test, y_test)\n",
        "print(\"Test Set Accuracy:\", test_accuracy)"
      ],
      "metadata": {
        "colab": {
          "base_uri": "https://localhost:8080/"
        },
        "id": "f0HLYCkDPtFk",
        "outputId": "35c737d4-ba3e-4348-8a72-6eeeaa523021"
      },
      "id": "f0HLYCkDPtFk",
      "execution_count": 43,
      "outputs": [
        {
          "output_type": "stream",
          "name": "stderr",
          "text": [
            "/usr/local/lib/python3.10/dist-packages/sklearn/model_selection/_split.py:737: UserWarning: The least populated class in y has only 3 members, which is less than n_splits=5.\n",
            "  warnings.warn(\n"
          ]
        },
        {
          "output_type": "stream",
          "name": "stdout",
          "text": [
            "Best Parameters: {'kneighborsclassifier__n_neighbors': 1}\n",
            "Best Cross-Validated Accuracy: 0.5328730208573369\n",
            "Test Set Accuracy: 0.5478231059307508\n"
          ]
        }
      ]
    },
    {
      "cell_type": "code",
      "source": [
        "k = 1\n",
        "knn = KNeighborsClassifier(n_neighbors=k,weights='distance')\n",
        "knn.fit(X_train_scaled, y_train)"
      ],
      "metadata": {
        "colab": {
          "base_uri": "https://localhost:8080/",
          "height": 74
        },
        "id": "rhe0O9FgPzwI",
        "outputId": "8c9684f6-80e7-4f7a-8e72-e997f6aa3272"
      },
      "id": "rhe0O9FgPzwI",
      "execution_count": 44,
      "outputs": [
        {
          "output_type": "execute_result",
          "data": {
            "text/plain": [
              "KNeighborsClassifier(n_neighbors=1, weights='distance')"
            ],
            "text/html": [
              "<style>#sk-container-id-2 {color: black;}#sk-container-id-2 pre{padding: 0;}#sk-container-id-2 div.sk-toggleable {background-color: white;}#sk-container-id-2 label.sk-toggleable__label {cursor: pointer;display: block;width: 100%;margin-bottom: 0;padding: 0.3em;box-sizing: border-box;text-align: center;}#sk-container-id-2 label.sk-toggleable__label-arrow:before {content: \"▸\";float: left;margin-right: 0.25em;color: #696969;}#sk-container-id-2 label.sk-toggleable__label-arrow:hover:before {color: black;}#sk-container-id-2 div.sk-estimator:hover label.sk-toggleable__label-arrow:before {color: black;}#sk-container-id-2 div.sk-toggleable__content {max-height: 0;max-width: 0;overflow: hidden;text-align: left;background-color: #f0f8ff;}#sk-container-id-2 div.sk-toggleable__content pre {margin: 0.2em;color: black;border-radius: 0.25em;background-color: #f0f8ff;}#sk-container-id-2 input.sk-toggleable__control:checked~div.sk-toggleable__content {max-height: 200px;max-width: 100%;overflow: auto;}#sk-container-id-2 input.sk-toggleable__control:checked~label.sk-toggleable__label-arrow:before {content: \"▾\";}#sk-container-id-2 div.sk-estimator input.sk-toggleable__control:checked~label.sk-toggleable__label {background-color: #d4ebff;}#sk-container-id-2 div.sk-label input.sk-toggleable__control:checked~label.sk-toggleable__label {background-color: #d4ebff;}#sk-container-id-2 input.sk-hidden--visually {border: 0;clip: rect(1px 1px 1px 1px);clip: rect(1px, 1px, 1px, 1px);height: 1px;margin: -1px;overflow: hidden;padding: 0;position: absolute;width: 1px;}#sk-container-id-2 div.sk-estimator {font-family: monospace;background-color: #f0f8ff;border: 1px dotted black;border-radius: 0.25em;box-sizing: border-box;margin-bottom: 0.5em;}#sk-container-id-2 div.sk-estimator:hover {background-color: #d4ebff;}#sk-container-id-2 div.sk-parallel-item::after {content: \"\";width: 100%;border-bottom: 1px solid gray;flex-grow: 1;}#sk-container-id-2 div.sk-label:hover label.sk-toggleable__label {background-color: #d4ebff;}#sk-container-id-2 div.sk-serial::before {content: \"\";position: absolute;border-left: 1px solid gray;box-sizing: border-box;top: 0;bottom: 0;left: 50%;z-index: 0;}#sk-container-id-2 div.sk-serial {display: flex;flex-direction: column;align-items: center;background-color: white;padding-right: 0.2em;padding-left: 0.2em;position: relative;}#sk-container-id-2 div.sk-item {position: relative;z-index: 1;}#sk-container-id-2 div.sk-parallel {display: flex;align-items: stretch;justify-content: center;background-color: white;position: relative;}#sk-container-id-2 div.sk-item::before, #sk-container-id-2 div.sk-parallel-item::before {content: \"\";position: absolute;border-left: 1px solid gray;box-sizing: border-box;top: 0;bottom: 0;left: 50%;z-index: -1;}#sk-container-id-2 div.sk-parallel-item {display: flex;flex-direction: column;z-index: 1;position: relative;background-color: white;}#sk-container-id-2 div.sk-parallel-item:first-child::after {align-self: flex-end;width: 50%;}#sk-container-id-2 div.sk-parallel-item:last-child::after {align-self: flex-start;width: 50%;}#sk-container-id-2 div.sk-parallel-item:only-child::after {width: 0;}#sk-container-id-2 div.sk-dashed-wrapped {border: 1px dashed gray;margin: 0 0.4em 0.5em 0.4em;box-sizing: border-box;padding-bottom: 0.4em;background-color: white;}#sk-container-id-2 div.sk-label label {font-family: monospace;font-weight: bold;display: inline-block;line-height: 1.2em;}#sk-container-id-2 div.sk-label-container {text-align: center;}#sk-container-id-2 div.sk-container {/* jupyter's `normalize.less` sets `[hidden] { display: none; }` but bootstrap.min.css set `[hidden] { display: none !important; }` so we also need the `!important` here to be able to override the default hidden behavior on the sphinx rendered scikit-learn.org. See: https://github.com/scikit-learn/scikit-learn/issues/21755 */display: inline-block !important;position: relative;}#sk-container-id-2 div.sk-text-repr-fallback {display: none;}</style><div id=\"sk-container-id-2\" class=\"sk-top-container\"><div class=\"sk-text-repr-fallback\"><pre>KNeighborsClassifier(n_neighbors=1, weights=&#x27;distance&#x27;)</pre><b>In a Jupyter environment, please rerun this cell to show the HTML representation or trust the notebook. <br />On GitHub, the HTML representation is unable to render, please try loading this page with nbviewer.org.</b></div><div class=\"sk-container\" hidden><div class=\"sk-item\"><div class=\"sk-estimator sk-toggleable\"><input class=\"sk-toggleable__control sk-hidden--visually\" id=\"sk-estimator-id-2\" type=\"checkbox\" checked><label for=\"sk-estimator-id-2\" class=\"sk-toggleable__label sk-toggleable__label-arrow\">KNeighborsClassifier</label><div class=\"sk-toggleable__content\"><pre>KNeighborsClassifier(n_neighbors=1, weights=&#x27;distance&#x27;)</pre></div></div></div></div></div>"
            ]
          },
          "metadata": {},
          "execution_count": 44
        }
      ]
    },
    {
      "cell_type": "code",
      "source": [
        "y_pred = knn.predict(X_test_scaled)\n",
        "accuracy = accuracy_score(y_test, y_pred)\n",
        "print(f\"Độ chính xác: {accuracy}\")\n",
        "print(classification_report(y_test, y_pred))"
      ],
      "metadata": {
        "colab": {
          "base_uri": "https://localhost:8080/"
        },
        "id": "rKlLinAaP4Yt",
        "outputId": "e8569db6-8e7a-4fe6-8250-a0e5486435cc"
      },
      "id": "rKlLinAaP4Yt",
      "execution_count": 45,
      "outputs": [
        {
          "output_type": "stream",
          "name": "stdout",
          "text": [
            "Độ chính xác: 0.5478231059307508\n",
            "              precision    recall  f1-score   support\n",
            "\n",
            "         0.0       0.43      0.44      0.44      1508\n",
            "         1.0       0.66      0.66      0.66      2965\n",
            "         2.0       0.44      0.43      0.44      1282\n",
            "         3.0       0.18      0.12      0.14        58\n",
            "         4.0       0.33      0.50      0.40         2\n",
            "         5.0       0.00      0.00      0.00         2\n",
            "         6.0       0.00      0.00      0.00         1\n",
            "         7.0       0.25      0.19      0.21        16\n",
            "\n",
            "    accuracy                           0.55      5834\n",
            "   macro avg       0.29      0.29      0.29      5834\n",
            "weighted avg       0.55      0.55      0.55      5834\n",
            "\n"
          ]
        }
      ]
    },
    {
      "cell_type": "code",
      "source": [
        "joblib.dump({'model': knn, 'label_encoder': le, 'StandardScaler':scaler}, 'knn_model.joblib')"
      ],
      "metadata": {
        "colab": {
          "base_uri": "https://localhost:8080/"
        },
        "id": "juo8DPQkP_nJ",
        "outputId": "edb5bdac-a3a0-4fe4-a0e8-6a66f27965d4"
      },
      "id": "juo8DPQkP_nJ",
      "execution_count": 46,
      "outputs": [
        {
          "output_type": "execute_result",
          "data": {
            "text/plain": [
              "['knn_model.joblib']"
            ]
          },
          "metadata": {},
          "execution_count": 46
        }
      ]
    },
    {
      "cell_type": "code",
      "source": [
        "'''\n",
        "from sklearn.model_selection import train_test_split, GridSearchCV\n",
        "from sklearn.preprocessing import StandardScaler\n",
        "from sklearn.svm import SVC\n",
        "from sklearn.metrics import accuracy_score\n",
        "\n",
        "\n",
        "param_grid = {'kernel': ['linear', 'poly', 'rbf', 'sigmoid'],\n",
        "              'C': [0.1, 1, 10],\n",
        "              'gamma': ['scale', 'auto', 0.1, 1]}\n",
        "svm_model = SVC()\n",
        "grid_search = GridSearchCV(svm_model, param_grid, cv=2, scoring='accuracy')\n",
        "grid_search.fit(X_train_scaled, y_train)\n",
        "\n",
        "best_kernel = grid_search.best_params_['kernel']\n",
        "best_C = grid_search.best_params_['C']\n",
        "best_gamma = grid_search.best_params_['gamma']\n",
        "\n",
        "\n",
        "best_svm_model = SVC(kernel=best_kernel, C=best_C, gamma=best_gamma)\n",
        "\n",
        "\n",
        "best_svm_model.fit(X_train_scaled, y_train)\n",
        "\n",
        "\n",
        "y_pred = best_svm_model.predict(X_test_scaled)\n",
        "accuracy = accuracy_score(y_test, y_pred)\n",
        "\n",
        "print(f'The best kernel is {best_kernel} with C={best_C} and gamma={best_gamma}')\n",
        "print(f'Accuracy on the test set: {accuracy}')\n",
        "'''"
      ],
      "metadata": {
        "colab": {
          "base_uri": "https://localhost:8080/",
          "height": 127
        },
        "id": "lS6_PBIcQIH-",
        "outputId": "7e75fcac-d636-4d1e-ce04-16d1427aa811"
      },
      "id": "lS6_PBIcQIH-",
      "execution_count": 47,
      "outputs": [
        {
          "output_type": "execute_result",
          "data": {
            "text/plain": [
              "\"\\nfrom sklearn.model_selection import train_test_split, GridSearchCV\\nfrom sklearn.preprocessing import StandardScaler\\nfrom sklearn.svm import SVC\\nfrom sklearn.metrics import accuracy_score\\n\\n\\nparam_grid = {'kernel': ['linear', 'poly', 'rbf', 'sigmoid'],\\n              'C': [0.1, 1, 10],\\n              'gamma': ['scale', 'auto', 0.1, 1]}\\nsvm_model = SVC()\\ngrid_search = GridSearchCV(svm_model, param_grid, cv=2, scoring='accuracy')\\ngrid_search.fit(X_train_scaled, y_train)\\n\\nbest_kernel = grid_search.best_params_['kernel']\\nbest_C = grid_search.best_params_['C']\\nbest_gamma = grid_search.best_params_['gamma']\\n\\n\\nbest_svm_model = SVC(kernel=best_kernel, C=best_C, gamma=best_gamma)\\n\\n\\nbest_svm_model.fit(X_train_scaled, y_train)\\n\\n\\ny_pred = best_svm_model.predict(X_test_scaled)\\naccuracy = accuracy_score(y_test, y_pred)\\n\\nprint(f'The best kernel is {best_kernel} with C={best_C} and gamma={best_gamma}')\\nprint(f'Accuracy on the test set: {accuracy}')\\n\""
            ],
            "application/vnd.google.colaboratory.intrinsic+json": {
              "type": "string"
            }
          },
          "metadata": {},
          "execution_count": 47
        }
      ]
    },
    {
      "cell_type": "code",
      "source": [
        "from sklearn.model_selection import train_test_split\n",
        "from sklearn.preprocessing import StandardScaler\n",
        "from sklearn.svm import SVC\n",
        "from sklearn.metrics import accuracy_score, classification_report\n",
        "\n",
        "\n",
        "\n",
        "\n",
        "svm_model = SVC(kernel='linear', C=0.1, gamma='scale')\n",
        "\n",
        "\n",
        "svm_model.fit(X_train_scaled, y_train)\n",
        "\n",
        "\n",
        "y_pred = svm_model.predict(X_test_scaled)\n",
        "\n",
        "\n",
        "accuracy = accuracy_score(y_test, y_pred)\n",
        "report = classification_report(y_test, y_pred)\n",
        "\n",
        "print(f'Accuracy: {accuracy}')\n",
        "print(report)"
      ],
      "metadata": {
        "colab": {
          "base_uri": "https://localhost:8080/"
        },
        "id": "zayXcfXwQLXg",
        "outputId": "273ee57b-7bd1-42c6-a994-25111fe4ba82"
      },
      "id": "zayXcfXwQLXg",
      "execution_count": 48,
      "outputs": [
        {
          "output_type": "stream",
          "name": "stdout",
          "text": [
            "Accuracy: 0.5569077819677751\n",
            "              precision    recall  f1-score   support\n",
            "\n",
            "         0.0       0.00      0.00      0.00      1508\n",
            "         1.0       0.61      0.83      0.70      2965\n",
            "         2.0       0.44      0.62      0.51      1282\n",
            "         3.0       0.00      0.00      0.00        58\n",
            "         4.0       0.00      0.00      0.00         2\n",
            "         5.0       0.00      0.00      0.00         2\n",
            "         6.0       0.00      0.00      0.00         1\n",
            "         7.0       0.00      0.00      0.00        16\n",
            "\n",
            "    accuracy                           0.56      5834\n",
            "   macro avg       0.13      0.18      0.15      5834\n",
            "weighted avg       0.41      0.56      0.47      5834\n",
            "\n"
          ]
        },
        {
          "output_type": "stream",
          "name": "stderr",
          "text": [
            "/usr/local/lib/python3.10/dist-packages/sklearn/metrics/_classification.py:1471: UndefinedMetricWarning: Precision and F-score are ill-defined and being set to 0.0 in labels with no predicted samples. Use `zero_division` parameter to control this behavior.\n",
            "  _warn_prf(average, modifier, msg_start, len(result))\n",
            "/usr/local/lib/python3.10/dist-packages/sklearn/metrics/_classification.py:1471: UndefinedMetricWarning: Precision and F-score are ill-defined and being set to 0.0 in labels with no predicted samples. Use `zero_division` parameter to control this behavior.\n",
            "  _warn_prf(average, modifier, msg_start, len(result))\n",
            "/usr/local/lib/python3.10/dist-packages/sklearn/metrics/_classification.py:1471: UndefinedMetricWarning: Precision and F-score are ill-defined and being set to 0.0 in labels with no predicted samples. Use `zero_division` parameter to control this behavior.\n",
            "  _warn_prf(average, modifier, msg_start, len(result))\n"
          ]
        }
      ]
    },
    {
      "cell_type": "code",
      "source": [
        "joblib.dump({'model': svm_model, 'label_encoder': le, 'StandardScaler':scaler}, 'svm_model.joblib')"
      ],
      "metadata": {
        "colab": {
          "base_uri": "https://localhost:8080/"
        },
        "id": "xEycOIQ8SuaN",
        "outputId": "74143674-5be1-45b6-d85d-0b0e0bb48606"
      },
      "id": "xEycOIQ8SuaN",
      "execution_count": 49,
      "outputs": [
        {
          "output_type": "execute_result",
          "data": {
            "text/plain": [
              "['svm_model.joblib']"
            ]
          },
          "metadata": {},
          "execution_count": 49
        }
      ]
    }
  ],
  "metadata": {
    "kernelspec": {
      "display_name": "Python 3 (ipykernel)",
      "language": "python",
      "name": "python3"
    },
    "language_info": {
      "codemirror_mode": {
        "name": "ipython",
        "version": 3
      },
      "file_extension": ".py",
      "mimetype": "text/x-python",
      "name": "python",
      "nbconvert_exporter": "python",
      "pygments_lexer": "ipython3",
      "version": "3.9.7"
    },
    "colab": {
      "provenance": []
    }
  },
  "nbformat": 4,
  "nbformat_minor": 5
}