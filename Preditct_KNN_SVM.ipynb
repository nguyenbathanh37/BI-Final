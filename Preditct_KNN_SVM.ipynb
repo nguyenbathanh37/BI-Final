{
 "cells": [
  {
   "cell_type": "markdown",
   "metadata": {
    "id": "uFeq9Idta608"
   },
   "source": []
  },
  {
   "cell_type": "code",
   "execution_count": 1,
   "metadata": {
    "id": "GQNWZYiC3rWT"
   },
   "outputs": [],
   "source": [
    "import pandas as pd\n",
    "import numpy as np\n",
    "\n",
    "data = pd.read_csv(\"/content/drive/MyDrive/test_dataset.csv\")\n",
    "df = pd.DataFrame(data)"
   ]
  },
  {
   "cell_type": "code",
   "execution_count": 2,
   "metadata": {
    "colab": {
     "base_uri": "https://localhost:8080/"
    },
    "id": "hTdtKSXYg9N0",
    "outputId": "acc8f3e9-9b91-4d06-ab9b-2b75fa85b183"
   },
   "outputs": [
    {
     "name": "stdout",
     "output_type": "stream",
     "text": [
      "Drive already mounted at /content/drive; to attempt to forcibly remount, call drive.mount(\"/content/drive\", force_remount=True).\n"
     ]
    }
   ],
   "source": [
    "from google.colab import drive\n",
    "drive.mount('/content/drive')"
   ]
  },
  {
   "cell_type": "code",
   "execution_count": 3,
   "metadata": {
    "id": "SlEj2yBM4m40"
   },
   "outputs": [],
   "source": [
    "import joblib"
   ]
  },
  {
   "cell_type": "markdown",
   "metadata": {
    "id": "CCcO623Ga-jg"
   },
   "source": [
    "SVM"
   ]
  },
  {
   "cell_type": "code",
   "execution_count": 4,
   "metadata": {
    "id": "oe9SLm6m2pYJ"
   },
   "outputs": [],
   "source": [
    "loaded_svm_data = joblib.load('/content/drive/MyDrive/svm_model.joblib')\n",
    "loaded_svm_model= loaded_svm_data['model']\n",
    "loaded_svm_scaler= loaded_svm_data['StandardScaler']\n",
    "loaded_svm_le= loaded_svm_data['label_encoder']"
   ]
  },
  {
   "cell_type": "code",
   "execution_count": 11,
   "metadata": {
    "id": "16EAPXv-67-R"
   },
   "outputs": [],
   "source": [
    "df['CODE_GENDER'] = loaded_svm_le.fit_transform(df['CODE_GENDER'])\n",
    "df['FLAG_OWN_CAR'] = loaded_svm_le.fit_transform(df['FLAG_OWN_CAR'])\n",
    "df['FLAG_OWN_REALTY'] = loaded_svm_le.fit_transform(df['FLAG_OWN_REALTY'])\n",
    "df['NAME_INCOME_TYPE'] = loaded_svm_le.fit_transform(df['NAME_INCOME_TYPE'])\n",
    "df['NAME_EDUCATION_TYPE'] = loaded_svm_le.fit_transform(df['NAME_EDUCATION_TYPE'])\n",
    "df['NAME_FAMILY_STATUS'] = loaded_svm_le.fit_transform(df['NAME_FAMILY_STATUS'])\n",
    "df['NAME_HOUSING_TYPE'] = loaded_svm_le.fit_transform(df['NAME_HOUSING_TYPE'])\n",
    "df['OCCUPATION_TYPE'] = loaded_svm_le.fit_transform(df['OCCUPATION_TYPE'])\n",
    "df['CNT_CHILDREN']=loaded_svm_le.fit_transform(df['CNT_CHILDREN'])\n",
    "df['CNT_FAM_MEMBERS']=loaded_svm_le.fit_transform(df['CNT_FAM_MEMBERS'])"
   ]
  },
  {
   "cell_type": "code",
   "execution_count": null,
   "metadata": {
    "id": "0eUqJTjkaEdr"
   },
   "outputs": [],
   "source": []
  },
  {
   "cell_type": "code",
   "execution_count": 12,
   "metadata": {
    "id": "GwXvWfjG7L-Y"
   },
   "outputs": [],
   "source": [
    "X_test_scaled = loaded_svm_scaler.transform(df)"
   ]
  },
  {
   "cell_type": "code",
   "execution_count": 13,
   "metadata": {
    "id": "r5YssWpB7oFU"
   },
   "outputs": [],
   "source": [
    "y_pred=loaded_svm_model.predict(X_test_scaled)"
   ]
  },
  {
   "cell_type": "markdown",
   "metadata": {
    "id": "j7twKtM-bDRw"
   },
   "source": [
    "K-NN"
   ]
  },
  {
   "cell_type": "code",
   "execution_count": 16,
   "metadata": {
    "id": "pnsRL1sB2_c7"
   },
   "outputs": [],
   "source": [
    "loaded_knn_data = joblib.load('/content/drive/MyDrive/knn_model.joblib')\n",
    "loaded_knn_model= loaded_knn_data['model']\n",
    "loaded_knn_scaler= loaded_knn_data['StandardScaler']\n",
    "loaded_knn_le= loaded_knn_data['label_encoder']"
   ]
  },
  {
   "cell_type": "code",
   "execution_count": 18,
   "metadata": {
    "id": "HvVUosj-3kAO"
   },
   "outputs": [],
   "source": [
    "df['CODE_GENDER'] = loaded_knn_le.fit_transform(df['CODE_GENDER'])\n",
    "df['FLAG_OWN_CAR'] = loaded_knn_le.fit_transform(df['FLAG_OWN_CAR'])\n",
    "df['FLAG_OWN_REALTY'] = loaded_knn_le.fit_transform(df['FLAG_OWN_REALTY'])\n",
    "df['NAME_INCOME_TYPE'] = loaded_knn_le.fit_transform(df['NAME_INCOME_TYPE'])\n",
    "df['NAME_EDUCATION_TYPE'] = loaded_knn_le.fit_transform(df['NAME_EDUCATION_TYPE'])\n",
    "df['NAME_FAMILY_STATUS'] = loaded_knn_le.fit_transform(df['NAME_FAMILY_STATUS'])\n",
    "df['NAME_HOUSING_TYPE'] = loaded_knn_le.fit_transform(df['NAME_HOUSING_TYPE'])\n",
    "df['OCCUPATION_TYPE'] = loaded_knn_le.fit_transform(df['OCCUPATION_TYPE'])\n",
    "df['CNT_CHILDREN']=loaded_knn_le.fit_transform(df['CNT_CHILDREN'])\n",
    "df['CNT_FAM_MEMBERS']=loaded_knn_le.fit_transform(df['CNT_FAM_MEMBERS'])"
   ]
  },
  {
   "cell_type": "code",
   "execution_count": 21,
   "metadata": {
    "id": "GKH75CN94bky"
   },
   "outputs": [],
   "source": [
    "X_test_scaled = loaded_knn_scaler.transform(df)"
   ]
  },
  {
   "cell_type": "code",
   "execution_count": 22,
   "metadata": {
    "id": "Yv_GWuXn6Ss2"
   },
   "outputs": [],
   "source": [
    "y_pred=loaded_knn_model.predict(X_test_scaled)"
   ]
  }
 ],
 "metadata": {
  "colab": {
   "provenance": []
  },
  "kernelspec": {
   "display_name": "Python 3 (ipykernel)",
   "language": "python",
   "name": "python3"
  },
  "language_info": {
   "codemirror_mode": {
    "name": "ipython",
    "version": 3
   },
   "file_extension": ".py",
   "mimetype": "text/x-python",
   "name": "python",
   "nbconvert_exporter": "python",
   "pygments_lexer": "ipython3",
   "version": "3.9.7"
  }
 },
 "nbformat": 4,
 "nbformat_minor": 1
}
